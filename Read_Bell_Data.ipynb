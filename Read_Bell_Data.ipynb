{
  "nbformat": 4,
  "nbformat_minor": 0,
  "metadata": {
    "colab": {
      "provenance": [],
      "authorship_tag": "ABX9TyNsWjzCsm18IjGmTUYAbptm",
      "include_colab_link": true
    },
    "kernelspec": {
      "name": "python3",
      "display_name": "Python 3"
    },
    "language_info": {
      "name": "python"
    }
  },
  "cells": [
    {
      "cell_type": "markdown",
      "metadata": {
        "id": "view-in-github",
        "colab_type": "text"
      },
      "source": [
        "<a href=\"https://colab.research.google.com/github/gfr10598/pullometer/blob/main/Read_Bell_Data.ipynb\" target=\"_parent\"><img src=\"https://colab.research.google.com/assets/colab-badge.svg\" alt=\"Open In Colab\"/></a>"
      ]
    },
    {
      "cell_type": "code",
      "source": [
        "# prompt: load a gz file from github, gunzip, and decode basae64\n",
        "\n",
        "import requests\n",
        "import base64\n",
        "import gzip\n",
        "\n",
        "# Fetch the gz file from GitHub\n",
        "url = 'https://github.com/gfr10598/pullometer/raw/main/data/groton_unmuffled.txt.gz'\n",
        "response = requests.get(url)\n",
        "\n",
        "# Save the gz file\n",
        "with open('downloaded.gz', 'wb') as f:\n",
        "    f.write(response.content)\n",
        "\n",
        "# Get the file stats\n",
        "file_stats = response.headers.get('Content-Length')\n",
        "print(file_stats)\n",
        "\n",
        "count = 0\n",
        "# Gunzip the file\n",
        "with gzip.open('downloaded.gz', 'rb') as gz_file:\n",
        "  for line in gz_file:\n",
        "    line = line.decode('utf-8')  # Assuming UTF-8 encoding\n",
        "    ts, b64 = line.split(' ')\n",
        "    decoded_data = base64.b64decode(b64)  # Assuming UTF-8 encoding\n",
        "    count += 1\n",
        "    if count % 10000 == 0:\n",
        "      print(line)\n",
        "\n",
        "\n",
        "# Print or further process the decoded data\n",
        "print(count)\n"
      ],
      "metadata": {
        "colab": {
          "base_uri": "https://localhost:8080/"
        },
        "id": "DH5AuzzipppV",
        "outputId": "45efa870-c8a6-44d8-a188-a09f89ac248e"
      },
      "execution_count": 14,
      "outputs": [
        {
          "output_type": "stream",
          "name": "stdout",
          "text": [
            "2437491\n",
            "18:05:58.782 DyAAJt87ARd9Ceb/Q/8J+/8q3zgBERgKtv8M/grP//reagESXArG/4D9DNr/+N6CARSnCQcAj/4PCgA4314BF34JAQBP/wkNAHPfMwER0QnM/zr/CuD/bt8/ARJKCq7/zf0My/9c33ABFPsJ5v+Y/Q/u/3zfeQEXLAkzAKL+CRYAs99NARFsCR8AP/8=\r\n",
            "\n",
            "18:06:52.415 DPj/3wTY/xTVAkkAmAcP8//qBNf/F80CRACbBwnv//IE1P8R0QJHAJsHCvH/9ATU/xLTAkYAmwcM7//4BNX/FNECRgCYBw/s//wE1f8XzQJJAJgHCez//wTX/xHKAkYA\n",
            "20000\n"
          ]
        }
      ]
    }
  ]
}
