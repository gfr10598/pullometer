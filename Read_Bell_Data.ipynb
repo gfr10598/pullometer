{
  "nbformat": 4,
  "nbformat_minor": 0,
  "metadata": {
    "colab": {
      "provenance": [],
      "authorship_tag": "ABX9TyNt+ZyxLQWRLEu8NqWYNCns",
      "include_colab_link": true
    },
    "kernelspec": {
      "name": "python3",
      "display_name": "Python 3"
    },
    "language_info": {
      "name": "python"
    }
  },
  "cells": [
    {
      "cell_type": "markdown",
      "metadata": {
        "id": "view-in-github",
        "colab_type": "text"
      },
      "source": [
        "<a href=\"https://colab.research.google.com/github/gfr10598/pullometer/blob/main/Read_Bell_Data.ipynb\" target=\"_parent\"><img src=\"https://colab.research.google.com/assets/colab-badge.svg\" alt=\"Open In Colab\"/></a>"
      ]
    },
    {
      "cell_type": "code",
      "source": [
        "from dateutil import parser\n",
        "import typing\n",
        "import base64\n",
        "import numpy as np\n",
        "import pandas as pd\n",
        "\n",
        "class LSMRecord:\n",
        "    def __init__(self, record: bytes) -> None:\n",
        "        self.tag = record[0] >> 3\n",
        "        self.cnt = (record[0] >> 1) & 0x3\n",
        "        self.data = (\n",
        "            int.from_bytes(record[1:3], byteorder=\"little\", signed=True),\n",
        "            int.from_bytes(record[3:5], byteorder=\"little\", signed=True),\n",
        "            int.from_bytes(record[5:7], byteorder=\"little\", signed=True),\n",
        "        )\n",
        "        # if self.tag == 3:\n",
        "        #     print(f\"Temperature tag {self.data[0]/256 + 25:6.2f} °C\")\n",
        "\n",
        "\n",
        "class LSM_Line:\n",
        "    def __init__(self, line: str) -> None:\n",
        "        self.line = line\n",
        "        self.time, self.base64 = line.split()\n",
        "        self.raw = base64.b64decode(self.base64)\n",
        "\n",
        "    def __iter__(self):\n",
        "        for i in range(len(self.raw) // 7):\n",
        "            yield LSMRecord(self.raw[i * 7 : i * 7 + 7])\n",
        "\n",
        "    def get_time(self):\n",
        "        return parser.parse(self.time)\n",
        "\n",
        "\n",
        "class LSM_Reader:\n",
        "    def __init__(self, f: typing.BinaryIO) -> None:\n",
        "        self.f = f\n",
        "\n",
        "    def __iter__(self):\n",
        "        for line in self.f:\n",
        "            yield LSM_Line(line)\n",
        "\n",
        "    def to_dataframe(self, offset: int = 0):\n",
        "        \"\"\"Currently this returns omega in rad/sec, and acceleration in g's.\"\"\"\n",
        "        xl = []\n",
        "        gyr = []\n",
        "        temps = []\n",
        "        times = []\n",
        "        counts = []\n",
        "        for line in self:\n",
        "            for record in line:\n",
        "                if record.tag == 1:\n",
        "                        gyr.append(record.data)\n",
        "                elif record.tag == 2:\n",
        "                        xl.append(record.data)\n",
        "                        while len(temps) > 0 and len(temps) < len(xl):\n",
        "                            temps.append(temps[-1])\n",
        "                elif record.tag == 3:\n",
        "                        while len(temps) < len(xl):\n",
        "                            temps.append(record.data[0] / 256 + 25)\n",
        "            times.append(line.get_time().timestamp())\n",
        "            counts.append(len(xl))\n",
        "        if offset > 0:\n",
        "            xl = xl[:-offset]\n",
        "            gyr = gyr[offset:]\n",
        "            temps = temps[offset:]\n",
        "        time_fit = np.polyfit(np.array(counts), np.array(times) - times[0], 1)\n",
        "        print(f\"Time base fit: {time_fit}  {1/time_fit[0]:8.2f} Hz\")\n",
        "        df = pd.DataFrame(xl, columns=[\"xl_x\", \"xl_y\", \"xl_z\"])\n",
        "        df = df * 16 / 32768  # Scale to g.\n",
        "        # Scale to rad/sec.\n",
        "        df[[\"gyr_x\", \"gyr_y\", \"gyr_z\"]] = pd.DataFrame(gyr) * 0.035 * np.pi / 180\n",
        "        df[\"time\"] = time_fit[0] * np.arange(len(df))\n",
        "        df[\"tempC\"] = temps\n",
        "\n",
        "        if len(temps) > 10:\n",
        "            rate = len(temps) / (times[-1] - times[0])\n",
        "            for i in range(10):\n",
        "                index = (len(temps) // 10) * i\n",
        "                print(f\"Temperature {index/rate:6.2f} {temps[index]:6.2f} °C\")\n",
        "        return df, time_fit[0]\n",
        "\n"
      ],
      "metadata": {
        "id": "RtywDAGOA7li"
      },
      "execution_count": 16,
      "outputs": []
    },
    {
      "cell_type": "code",
      "source": [
        "# prompt: load a gz file from github, gunzip, and decode basae64\n",
        "\n",
        "import requests\n",
        "from zipfile import ZipFile\n",
        "import base64\n",
        "import gzip\n",
        "\n",
        "# Fetch the gz file from GitHub\n",
        "url = 'https://github.com/gfr10598/pullometer/raw/main/data/groton_unmuffled.txt.gz'\n",
        "response = requests.get(url)\n",
        "\n",
        "# Save the gz file\n",
        "with open('downloaded.gz', 'wb') as f:\n",
        "    f.write(response.content)\n",
        "\n",
        "# Get the file stats\n",
        "file_stats = response.headers.get('Content-Length')\n",
        "print(file_stats)\n",
        "\n",
        "with gzip.open('downloaded.gz', 'rb') as gz_file:\n",
        "  rdr = LSM_Reader(gz_file)\n",
        "  df = rdr.to_dataframe()\n",
        "  print(len(df))\n",
        "\n"
      ],
      "metadata": {
        "colab": {
          "base_uri": "https://localhost:8080/"
        },
        "id": "DH5AuzzipppV",
        "outputId": "e3456f32-b53f-446b-eb9a-e40231a5c69a"
      },
      "execution_count": 17,
      "outputs": [
        {
          "output_type": "stream",
          "name": "stdout",
          "text": [
            "2437491\n",
            "Time base fit: [ 0.00053592 -0.0047201 ]   1865.95 Hz\n",
            "Temperature   0.00  20.46 °C\n",
            "Temperature  10.75  20.46 °C\n",
            "Temperature  21.51  20.46 °C\n",
            "Temperature  32.26  20.46 °C\n",
            "Temperature  43.01  20.46 °C\n",
            "Temperature  53.77  20.46 °C\n",
            "Temperature  64.52  20.46 °C\n",
            "Temperature  75.28  20.46 °C\n",
            "Temperature  86.03  20.46 °C\n",
            "Temperature  96.78  20.46 °C\n",
            "2\n"
          ]
        }
      ]
    }
  ]
}